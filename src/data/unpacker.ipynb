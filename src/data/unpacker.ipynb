{
 "cells": [
  {
   "cell_type": "code",
   "execution_count": 1,
   "id": "fa1d6aeb",
   "metadata": {},
   "outputs": [],
   "source": [
    "import _pickle as cPickle\n",
    "import gzip\n",
    "import numpy as np"
   ]
  },
  {
   "cell_type": "markdown",
   "id": "1574b09b",
   "metadata": {},
   "source": [
    "Parse data into:\n",
    "\n",
    "\\<number of img in file\\>\n",
    "\n",
    "\\<10 lines img 1 actual\\>\n",
    "\n",
    "\\<784 lines img 1\\>\n",
    "\n",
    "\\<10 lines img 2 actual\\>\n",
    "\n",
    "\\<784 lines img 2\\>\n",
    "\n",
    "etc"
   ]
  },
  {
   "cell_type": "code",
   "execution_count": 2,
   "id": "307ec17c",
   "metadata": {},
   "outputs": [],
   "source": [
    "def load():\n",
    "    file = gzip.open('mnist.pkl.gz','rb')\n",
    "    train, validation, test = cPickle.load(file,encoding='latin1')\n",
    "    file.close()\n",
    "    return train,validation,test\n",
    "\n",
    "def vectorize(x):\n",
    "    ret = np.zeros(10)\n",
    "    ret[x] = 1.0\n",
    "    return ret"
   ]
  },
  {
   "cell_type": "code",
   "execution_count": 3,
   "id": "4d963ba5",
   "metadata": {},
   "outputs": [],
   "source": [
    "def LOAD():\n",
    "    train, validation, test = load()\n",
    "    training_inputs = [np.reshape(x,(784,1)) for x in train[0]]\n",
    "    training_results = [vectorize(y) for y in train[1]]\n",
    "    training_data = zip(training_inputs,training_results)\n",
    "    validation_inputs = [np.reshape(x,(784,1)) for x in validation[0]]\n",
    "    validation_data = zip(validation_inputs,validation[1])\n",
    "    test_inputs = [np.reshape(x,(784, 1)) for x in test[0]]\n",
    "    test_data = zip(test_inputs, test[1])\n",
    "    return training_data,validation_data,test_data"
   ]
  },
  {
   "cell_type": "code",
   "execution_count": 4,
   "id": "b5c1bda0",
   "metadata": {},
   "outputs": [],
   "source": [
    "def to_txt(data,filename):\n",
    "    data = list(data)\n",
    "    with open(filename, 'w') as file:\n",
    "        file.write(f\"{len(data)}\\n\")\n",
    "        for image, label in data:\n",
    "            if isinstance(label, np.ndarray):\n",
    "                file.write(\"\\n\".join(map(str,label.flatten())) + \"\\n\")\n",
    "            else:\n",
    "                label_vector = vectorize(label)\n",
    "                file.write(\"\\n\".join(map(str,label_vector.flatten())) + \"\\n\")\n",
    "            file.write(\"\\n\".join(map(str, image.flatten())) + \"\\n\")"
   ]
  },
  {
   "cell_type": "code",
   "execution_count": 5,
   "id": "7cffcf18",
   "metadata": {},
   "outputs": [],
   "source": [
    "train, validation, test = LOAD()"
   ]
  },
  {
   "cell_type": "code",
   "execution_count": 6,
   "id": "01fa629a",
   "metadata": {},
   "outputs": [],
   "source": [
    "to_txt(train,'text/train.txt')"
   ]
  },
  {
   "cell_type": "code",
   "execution_count": 7,
   "id": "e1d1ecae",
   "metadata": {},
   "outputs": [],
   "source": [
    "to_txt(validation,'text/validation.txt')"
   ]
  },
  {
   "cell_type": "code",
   "execution_count": 8,
   "id": "e9c1cfab",
   "metadata": {},
   "outputs": [],
   "source": [
    "to_txt(test,'text/test.txt')"
   ]
  }
 ],
 "metadata": {
  "kernelspec": {
   "display_name": "Python 3",
   "language": "python",
   "name": "python3"
  },
  "language_info": {
   "codemirror_mode": {
    "name": "ipython",
    "version": 3
   },
   "file_extension": ".py",
   "mimetype": "text/x-python",
   "name": "python",
   "nbconvert_exporter": "python",
   "pygments_lexer": "ipython3",
   "version": "3.12.3"
  }
 },
 "nbformat": 4,
 "nbformat_minor": 5
}
